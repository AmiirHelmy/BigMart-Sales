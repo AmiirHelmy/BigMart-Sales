{
 "cells": [
  {
   "cell_type": "markdown",
   "id": "6ee21db4",
   "metadata": {},
   "source": [
    "# BIG MART SALES DATA PREDICTION"
   ]
  },
  {
   "cell_type": "markdown",
   "id": "fe5901ef",
   "metadata": {},
   "source": [
    "### CONTENTS\n",
    "\n",
    "1. Import Relevant Libraries\n",
    "2. Data Inspection\n",
    "3. Data Cleaning\n",
    "4. Exploratory Data Analysis"
   ]
  },
  {
   "cell_type": "markdown",
   "id": "409440e2",
   "metadata": {},
   "source": [
    "### PROBLEM STATEMENT"
   ]
  },
  {
   "cell_type": "markdown",
   "id": "c0a7a843",
   "metadata": {},
   "source": [
    "The data scientists at BigMart have collected 2013 sales data for 1559 products across 10 stores in different cities. Also, certain attributes of each product and store have been defined. The aim is to build a predictive model and find out the sales of each product at a particular store. Using this model, BigMart will try to understand the properties of products and stores which play a key role in increasing sales."
   ]
  },
  {
   "cell_type": "markdown",
   "id": "8465acdf",
   "metadata": {},
   "source": [
    "### DATA\n"
   ]
  },
  {
   "cell_type": "markdown",
   "id": "57ea5a0e",
   "metadata": {},
   "source": [
    "\n",
    "* Item_Identifier : Unique product ID\n",
    "\n",
    "* Item_Weight : Weight of product\n",
    "\n",
    "* Item_Fat_Content : Whether the product is low fat or not\n",
    "\n",
    "* Item_Visibility : The % of total display area of all products in a store allocated to the particular product\n",
    "\n",
    "* Item_Type : The category to which the product belongs\n",
    "\n",
    "* Item_MRP : Maximum Retail Price (list price) of the product\n",
    "\n",
    "* Outlet_Identifier : Unique store ID\n",
    "\n",
    "* Outlet_Establishment_Year : The year in which store was established\n",
    "\n",
    "* Outlet_Size : The size of the store in terms of ground area covered\n",
    "\n",
    "* Outlet_Location_Type : The type of city in which the store is located\n",
    "\n",
    "* Outlet_Type : Whether the outlet is just a grocery store or some sort of supermarket\n",
    "\n",
    "* Item_Outlet_Sales : Sales of the product in the particular store.\n"
   ]
  },
  {
   "cell_type": "markdown",
   "id": "5a7fdaaf",
   "metadata": {},
   "source": [
    "### Step 1: Importing the Relevant libraries "
   ]
  },
  {
   "cell_type": "code",
   "execution_count": 299,
   "id": "6e2beac0",
   "metadata": {},
   "outputs": [],
   "source": [
    "# Analysis related libraries \n",
    "import matplotlib.pyplot as plt\n",
    "import pandas as pd\n",
    "import numpy as np\n",
    "import seaborn as sns\n",
    "\n",
    "sns.set()\n",
    "%matplotlib inline"
   ]
  },
  {
   "cell_type": "code",
   "execution_count": 300,
   "id": "4ee07517",
   "metadata": {},
   "outputs": [],
   "source": [
    "# ML relatated libraries\n",
    "from sklearn.preprocessing import LabelEncoder, StandardScaler\n",
    "from sklearn.model_selection import train_test_split, cross_val_score\n",
    "from sklearn import metrics\n",
    "from sklearn.linear_model import LinearRegression\n",
    "from sklearn.ensemble import RandomForestRegressor"
   ]
  },
  {
   "cell_type": "markdown",
   "id": "75501d69",
   "metadata": {},
   "source": [
    "## Step 2 : Data inspection\n",
    "#### Reading the dataframe"
   ]
  },
  {
   "cell_type": "code",
   "execution_count": 301,
   "id": "9939ad32",
   "metadata": {},
   "outputs": [],
   "source": [
    "train = pd.read_csv(\"train.csv\")\n",
    "test= pd.read_csv(\"test.csv\")"
   ]
  },
  {
   "cell_type": "code",
   "execution_count": 302,
   "id": "e416f3b9",
   "metadata": {},
   "outputs": [
    {
     "data": {
      "text/html": [
       "<div>\n",
       "<style scoped>\n",
       "    .dataframe tbody tr th:only-of-type {\n",
       "        vertical-align: middle;\n",
       "    }\n",
       "\n",
       "    .dataframe tbody tr th {\n",
       "        vertical-align: top;\n",
       "    }\n",
       "\n",
       "    .dataframe thead th {\n",
       "        text-align: right;\n",
       "    }\n",
       "</style>\n",
       "<table border=\"1\" class=\"dataframe\">\n",
       "  <thead>\n",
       "    <tr style=\"text-align: right;\">\n",
       "      <th></th>\n",
       "      <th>Item_Identifier</th>\n",
       "      <th>Item_Weight</th>\n",
       "      <th>Item_Fat_Content</th>\n",
       "      <th>Item_Visibility</th>\n",
       "      <th>Item_Type</th>\n",
       "      <th>Item_MRP</th>\n",
       "      <th>Outlet_Identifier</th>\n",
       "      <th>Outlet_Establishment_Year</th>\n",
       "      <th>Outlet_Size</th>\n",
       "      <th>Outlet_Location_Type</th>\n",
       "      <th>Outlet_Type</th>\n",
       "      <th>Item_Outlet_Sales</th>\n",
       "    </tr>\n",
       "  </thead>\n",
       "  <tbody>\n",
       "    <tr>\n",
       "      <th>0</th>\n",
       "      <td>FDA15</td>\n",
       "      <td>9.30</td>\n",
       "      <td>Low Fat</td>\n",
       "      <td>0.016047</td>\n",
       "      <td>Dairy</td>\n",
       "      <td>249.8092</td>\n",
       "      <td>OUT049</td>\n",
       "      <td>1999</td>\n",
       "      <td>Medium</td>\n",
       "      <td>Tier 1</td>\n",
       "      <td>Supermarket Type1</td>\n",
       "      <td>3735.1380</td>\n",
       "    </tr>\n",
       "    <tr>\n",
       "      <th>1</th>\n",
       "      <td>DRC01</td>\n",
       "      <td>5.92</td>\n",
       "      <td>Regular</td>\n",
       "      <td>0.019278</td>\n",
       "      <td>Soft Drinks</td>\n",
       "      <td>48.2692</td>\n",
       "      <td>OUT018</td>\n",
       "      <td>2009</td>\n",
       "      <td>Medium</td>\n",
       "      <td>Tier 3</td>\n",
       "      <td>Supermarket Type2</td>\n",
       "      <td>443.4228</td>\n",
       "    </tr>\n",
       "  </tbody>\n",
       "</table>\n",
       "</div>"
      ],
      "text/plain": [
       "  Item_Identifier  Item_Weight Item_Fat_Content  Item_Visibility    Item_Type  \\\n",
       "0           FDA15         9.30          Low Fat         0.016047        Dairy   \n",
       "1           DRC01         5.92          Regular         0.019278  Soft Drinks   \n",
       "\n",
       "   Item_MRP Outlet_Identifier  Outlet_Establishment_Year Outlet_Size  \\\n",
       "0  249.8092            OUT049                       1999      Medium   \n",
       "1   48.2692            OUT018                       2009      Medium   \n",
       "\n",
       "  Outlet_Location_Type        Outlet_Type  Item_Outlet_Sales  \n",
       "0               Tier 1  Supermarket Type1          3735.1380  \n",
       "1               Tier 3  Supermarket Type2           443.4228  "
      ]
     },
     "execution_count": 302,
     "metadata": {},
     "output_type": "execute_result"
    }
   ],
   "source": [
    "# Lets take a lock on the data\n",
    "train.head(2)"
   ]
  },
  {
   "cell_type": "code",
   "execution_count": 303,
   "id": "7febdb33",
   "metadata": {},
   "outputs": [
    {
     "data": {
      "text/plain": [
       "((8523, 12), (5681, 11))"
      ]
     },
     "execution_count": 303,
     "metadata": {},
     "output_type": "execute_result"
    }
   ],
   "source": [
    "train.shape, test.shape"
   ]
  },
  {
   "cell_type": "markdown",
   "id": "5ed713d2",
   "metadata": {},
   "source": [
    "##### As said above we have 8523 rows and 12 columns in Train set whereas Test set has 5681 rows and 11 columns."
   ]
  },
  {
   "cell_type": "markdown",
   "id": "2b327b41",
   "metadata": {},
   "source": [
    "### Checking if there is missing values"
   ]
  },
  {
   "cell_type": "code",
   "execution_count": 304,
   "id": "5bc567a9",
   "metadata": {},
   "outputs": [],
   "source": [
    "def check_missing_values(df):\n",
    "    \"\"\"\n",
    "    Checks if there is missing values in the dataframe and prints it prints is percentage\n",
    "    if there is a column with missing values.\n",
    "    \n",
    "    INPUTS:\n",
    "        df: the dataframe we want to check\n",
    "    RETURN:\n",
    "        The missing values column name and its percentage\n",
    "    \"\"\"\n",
    "    # Getting columns with missing values in a list\n",
    "    missing_cols = df.columns[df.isnull().any() == True].tolist()\n",
    "    # Calculating % of missing values in each column\n",
    "    col_perscentage = df.isnull().sum()/ df.shape[0]*100\n",
    "    \n",
    "    print(\"-\"*50)\n",
    "    if missing_cols == []:\n",
    "        print(\"The DataFrame has No Missing Values!\")\n",
    "    else:\n",
    "        for i, col in enumerate(missing_cols):\n",
    "            print('\"{}\" column has {:.2f}% of missing values.'.format(col, col_perscentage[missing_cols[i]]))\n",
    "    print(\"-\"*50)\n",
    "        "
   ]
  },
  {
   "cell_type": "code",
   "execution_count": 305,
   "id": "e33e0383",
   "metadata": {},
   "outputs": [
    {
     "name": "stdout",
     "output_type": "stream",
     "text": [
      "--------------------------------------------------\n",
      "\"Item_Weight\" column has 17.17% of missing values.\n",
      "\"Outlet_Size\" column has 28.28% of missing values.\n",
      "--------------------------------------------------\n",
      "--------------------------------------------------\n",
      "\"Item_Weight\" column has 17.18% of missing values.\n",
      "\"Outlet_Size\" column has 28.27% of missing values.\n",
      "--------------------------------------------------\n"
     ]
    }
   ],
   "source": [
    "check_missing_values(train)\n",
    "check_missing_values(test)"
   ]
  },
  {
   "cell_type": "markdown",
   "id": "14ec5f71",
   "metadata": {},
   "source": [
    "#### We have same missing values percentage of Item Size and Outlet Size columns in training set as that of in Test set."
   ]
  },
  {
   "cell_type": "code",
   "execution_count": 306,
   "id": "5bb8e0ca",
   "metadata": {},
   "outputs": [
    {
     "name": "stdout",
     "output_type": "stream",
     "text": [
      "<class 'pandas.core.frame.DataFrame'>\n",
      "RangeIndex: 8523 entries, 0 to 8522\n",
      "Data columns (total 12 columns):\n",
      " #   Column                     Non-Null Count  Dtype  \n",
      "---  ------                     --------------  -----  \n",
      " 0   Item_Identifier            8523 non-null   object \n",
      " 1   Item_Weight                7060 non-null   float64\n",
      " 2   Item_Fat_Content           8523 non-null   object \n",
      " 3   Item_Visibility            8523 non-null   float64\n",
      " 4   Item_Type                  8523 non-null   object \n",
      " 5   Item_MRP                   8523 non-null   float64\n",
      " 6   Outlet_Identifier          8523 non-null   object \n",
      " 7   Outlet_Establishment_Year  8523 non-null   int64  \n",
      " 8   Outlet_Size                6113 non-null   object \n",
      " 9   Outlet_Location_Type       8523 non-null   object \n",
      " 10  Outlet_Type                8523 non-null   object \n",
      " 11  Item_Outlet_Sales          8523 non-null   float64\n",
      "dtypes: float64(4), int64(1), object(7)\n",
      "memory usage: 799.2+ KB\n"
     ]
    }
   ],
   "source": [
    "train.info()"
   ]
  },
  {
   "cell_type": "code",
   "execution_count": 307,
   "id": "3d2ddfea",
   "metadata": {},
   "outputs": [
    {
     "name": "stdout",
     "output_type": "stream",
     "text": [
      "Training categorical Features in Train Set: 7\n",
      "Training numerical Features in Train Set: 7\n",
      "\n",
      "Testing categorical Features in Test Set: 7\n",
      "Testing numerical Features in Test Set: 4\n"
     ]
    }
   ],
   "source": [
    "# Training categorical and numerical columns\n",
    "categorical_columns_train = train.select_dtypes(include=[object])\n",
    "print(\"Training categorical Features in Train Set:\", len(categorical_columns_train.columns))\n",
    "numerical_columns_train = train.select_dtypes(include=[np.float64, np.int64])\n",
    "print(\"Training numerical Features in Train Set:\", len(categorical_columns_train.columns))\n",
    "\n",
    "# testing categorical and numerical columns\n",
    "categorical_columns_test = test.select_dtypes(include=[object])\n",
    "print(\"\\nTesting categorical Features in Test Set:\", len(categorical_columns_test.columns))\n",
    "numerical_columns_test = test.select_dtypes(include=[np.float64, np.int64])\n",
    "print(\"Testing numerical Features in Test Set:\", len(numerical_columns_test.columns))"
   ]
  },
  {
   "cell_type": "markdown",
   "id": "a0324619",
   "metadata": {},
   "source": [
    "It makes sense because the test set has a missing column \"Item_Outlet_Sales\" which we will predict "
   ]
  },
  {
   "cell_type": "markdown",
   "id": "6986cd76",
   "metadata": {},
   "source": [
    "-----------"
   ]
  },
  {
   "cell_type": "markdown",
   "id": "31afad82",
   "metadata": {},
   "source": [
    "### Numerical stats"
   ]
  },
  {
   "cell_type": "code",
   "execution_count": 308,
   "id": "9505a0a1",
   "metadata": {},
   "outputs": [
    {
     "data": {
      "text/html": [
       "<div>\n",
       "<style scoped>\n",
       "    .dataframe tbody tr th:only-of-type {\n",
       "        vertical-align: middle;\n",
       "    }\n",
       "\n",
       "    .dataframe tbody tr th {\n",
       "        vertical-align: top;\n",
       "    }\n",
       "\n",
       "    .dataframe thead th {\n",
       "        text-align: right;\n",
       "    }\n",
       "</style>\n",
       "<table border=\"1\" class=\"dataframe\">\n",
       "  <thead>\n",
       "    <tr style=\"text-align: right;\">\n",
       "      <th></th>\n",
       "      <th>Item_Weight</th>\n",
       "      <th>Item_Visibility</th>\n",
       "      <th>Item_MRP</th>\n",
       "      <th>Outlet_Establishment_Year</th>\n",
       "      <th>Item_Outlet_Sales</th>\n",
       "    </tr>\n",
       "  </thead>\n",
       "  <tbody>\n",
       "    <tr>\n",
       "      <th>count</th>\n",
       "      <td>7060.000000</td>\n",
       "      <td>8523.000000</td>\n",
       "      <td>8523.000000</td>\n",
       "      <td>8523.000000</td>\n",
       "      <td>8523.000000</td>\n",
       "    </tr>\n",
       "    <tr>\n",
       "      <th>mean</th>\n",
       "      <td>12.857645</td>\n",
       "      <td>0.066132</td>\n",
       "      <td>140.992782</td>\n",
       "      <td>1997.831867</td>\n",
       "      <td>2181.288914</td>\n",
       "    </tr>\n",
       "    <tr>\n",
       "      <th>std</th>\n",
       "      <td>4.643456</td>\n",
       "      <td>0.051598</td>\n",
       "      <td>62.275067</td>\n",
       "      <td>8.371760</td>\n",
       "      <td>1706.499616</td>\n",
       "    </tr>\n",
       "    <tr>\n",
       "      <th>min</th>\n",
       "      <td>4.555000</td>\n",
       "      <td>0.000000</td>\n",
       "      <td>31.290000</td>\n",
       "      <td>1985.000000</td>\n",
       "      <td>33.290000</td>\n",
       "    </tr>\n",
       "    <tr>\n",
       "      <th>25%</th>\n",
       "      <td>8.773750</td>\n",
       "      <td>0.026989</td>\n",
       "      <td>93.826500</td>\n",
       "      <td>1987.000000</td>\n",
       "      <td>834.247400</td>\n",
       "    </tr>\n",
       "    <tr>\n",
       "      <th>50%</th>\n",
       "      <td>12.600000</td>\n",
       "      <td>0.053931</td>\n",
       "      <td>143.012800</td>\n",
       "      <td>1999.000000</td>\n",
       "      <td>1794.331000</td>\n",
       "    </tr>\n",
       "    <tr>\n",
       "      <th>75%</th>\n",
       "      <td>16.850000</td>\n",
       "      <td>0.094585</td>\n",
       "      <td>185.643700</td>\n",
       "      <td>2004.000000</td>\n",
       "      <td>3101.296400</td>\n",
       "    </tr>\n",
       "    <tr>\n",
       "      <th>max</th>\n",
       "      <td>21.350000</td>\n",
       "      <td>0.328391</td>\n",
       "      <td>266.888400</td>\n",
       "      <td>2009.000000</td>\n",
       "      <td>13086.964800</td>\n",
       "    </tr>\n",
       "  </tbody>\n",
       "</table>\n",
       "</div>"
      ],
      "text/plain": [
       "       Item_Weight  Item_Visibility     Item_MRP  Outlet_Establishment_Year  \\\n",
       "count  7060.000000      8523.000000  8523.000000                8523.000000   \n",
       "mean     12.857645         0.066132   140.992782                1997.831867   \n",
       "std       4.643456         0.051598    62.275067                   8.371760   \n",
       "min       4.555000         0.000000    31.290000                1985.000000   \n",
       "25%       8.773750         0.026989    93.826500                1987.000000   \n",
       "50%      12.600000         0.053931   143.012800                1999.000000   \n",
       "75%      16.850000         0.094585   185.643700                2004.000000   \n",
       "max      21.350000         0.328391   266.888400                2009.000000   \n",
       "\n",
       "       Item_Outlet_Sales  \n",
       "count        8523.000000  \n",
       "mean         2181.288914  \n",
       "std          1706.499616  \n",
       "min            33.290000  \n",
       "25%           834.247400  \n",
       "50%          1794.331000  \n",
       "75%          3101.296400  \n",
       "max         13086.964800  "
      ]
     },
     "execution_count": 308,
     "metadata": {},
     "output_type": "execute_result"
    }
   ],
   "source": [
    "# Numerical description of the data\n",
    "train.describe()"
   ]
  },
  {
   "cell_type": "code",
   "execution_count": 309,
   "id": "9141ec3d",
   "metadata": {},
   "outputs": [
    {
     "data": {
      "text/html": [
       "<div>\n",
       "<style scoped>\n",
       "    .dataframe tbody tr th:only-of-type {\n",
       "        vertical-align: middle;\n",
       "    }\n",
       "\n",
       "    .dataframe tbody tr th {\n",
       "        vertical-align: top;\n",
       "    }\n",
       "\n",
       "    .dataframe thead th {\n",
       "        text-align: right;\n",
       "    }\n",
       "</style>\n",
       "<table border=\"1\" class=\"dataframe\">\n",
       "  <thead>\n",
       "    <tr style=\"text-align: right;\">\n",
       "      <th></th>\n",
       "      <th>Item_Weight</th>\n",
       "      <th>Item_Visibility</th>\n",
       "      <th>Item_MRP</th>\n",
       "      <th>Outlet_Establishment_Year</th>\n",
       "    </tr>\n",
       "  </thead>\n",
       "  <tbody>\n",
       "    <tr>\n",
       "      <th>count</th>\n",
       "      <td>4705.000000</td>\n",
       "      <td>5681.000000</td>\n",
       "      <td>5681.000000</td>\n",
       "      <td>5681.000000</td>\n",
       "    </tr>\n",
       "    <tr>\n",
       "      <th>mean</th>\n",
       "      <td>12.695633</td>\n",
       "      <td>0.065684</td>\n",
       "      <td>141.023273</td>\n",
       "      <td>1997.828903</td>\n",
       "    </tr>\n",
       "    <tr>\n",
       "      <th>std</th>\n",
       "      <td>4.664849</td>\n",
       "      <td>0.051252</td>\n",
       "      <td>61.809091</td>\n",
       "      <td>8.372256</td>\n",
       "    </tr>\n",
       "    <tr>\n",
       "      <th>min</th>\n",
       "      <td>4.555000</td>\n",
       "      <td>0.000000</td>\n",
       "      <td>31.990000</td>\n",
       "      <td>1985.000000</td>\n",
       "    </tr>\n",
       "    <tr>\n",
       "      <th>25%</th>\n",
       "      <td>8.645000</td>\n",
       "      <td>0.027047</td>\n",
       "      <td>94.412000</td>\n",
       "      <td>1987.000000</td>\n",
       "    </tr>\n",
       "    <tr>\n",
       "      <th>50%</th>\n",
       "      <td>12.500000</td>\n",
       "      <td>0.054154</td>\n",
       "      <td>141.415400</td>\n",
       "      <td>1999.000000</td>\n",
       "    </tr>\n",
       "    <tr>\n",
       "      <th>75%</th>\n",
       "      <td>16.700000</td>\n",
       "      <td>0.093463</td>\n",
       "      <td>186.026600</td>\n",
       "      <td>2004.000000</td>\n",
       "    </tr>\n",
       "    <tr>\n",
       "      <th>max</th>\n",
       "      <td>21.350000</td>\n",
       "      <td>0.323637</td>\n",
       "      <td>266.588400</td>\n",
       "      <td>2009.000000</td>\n",
       "    </tr>\n",
       "  </tbody>\n",
       "</table>\n",
       "</div>"
      ],
      "text/plain": [
       "       Item_Weight  Item_Visibility     Item_MRP  Outlet_Establishment_Year\n",
       "count  4705.000000      5681.000000  5681.000000                5681.000000\n",
       "mean     12.695633         0.065684   141.023273                1997.828903\n",
       "std       4.664849         0.051252    61.809091                   8.372256\n",
       "min       4.555000         0.000000    31.990000                1985.000000\n",
       "25%       8.645000         0.027047    94.412000                1987.000000\n",
       "50%      12.500000         0.054154   141.415400                1999.000000\n",
       "75%      16.700000         0.093463   186.026600                2004.000000\n",
       "max      21.350000         0.323637   266.588400                2009.000000"
      ]
     },
     "execution_count": 309,
     "metadata": {},
     "output_type": "execute_result"
    }
   ],
   "source": [
    "test.describe()"
   ]
  },
  {
   "cell_type": "markdown",
   "id": "86c09e4b",
   "metadata": {},
   "source": [
    "#### From these tables we observe that:\n",
    "- The features of our data are perfectly balanced.\n",
    "- The mean of Item_Visibility column is very low, which means that there are many items are not visible to customers.\n",
    "- The items sold in all types of markets aren't very heavy as the maximum weight of an item is \"21\".\n"
   ]
  },
  {
   "cell_type": "markdown",
   "id": "f61177a5",
   "metadata": {},
   "source": [
    "------------"
   ]
  },
  {
   "cell_type": "markdown",
   "id": "7e89b85f",
   "metadata": {},
   "source": [
    "## Step 3. Data Cleaning "
   ]
  },
  {
   "cell_type": "markdown",
   "id": "00199db7",
   "metadata": {},
   "source": [
    "#### Why missing values treatment is required?\n",
    "Missing data in the training data set can reduce the power / fit of a model or can lead to a biased model because we have not analysed the behavior and relationship with other variables correctly. It can lead to wrong prediction.\n",
    "\n",
    "We have missing values in two columns, so we will see what we can dot to impute these missing values\n",
    "##### 1) Item weight"
   ]
  },
  {
   "cell_type": "code",
   "execution_count": 310,
   "id": "98002987",
   "metadata": {},
   "outputs": [
    {
     "data": {
      "image/png": "[encoded data removed]",
      "text/plain": [
       "<Figure size 1080x360 with 2 Axes>"
      ]
     },
     "metadata": {
      "needs_background": "light"
     },
     "output_type": "display_data"
    }
   ],
   "source": [
    "# ploting the weight to see the distribution of the data\n",
    "fig, axes = plt.subplots(1, 2, figsize=(15, 5), sharey=True)\n",
    "sns.boxplot(x=\"Item_Weight\", data=train, ax=axes[0])\n",
    "axes[0].set_title(\"Train\")\n",
    "\n",
    "sns.boxplot(x=\"Item_Weight\", data=test, ax=axes[1])\n",
    "axes[1].set_title(\"Test\");"
   ]
  },
  {
   "cell_type": "markdown",
   "id": "ab2eabef",
   "metadata": {},
   "source": [
    "There are no \"outlires\" in the box plots above, so i think it is save to impute the missing values with weight mean"
   ]
  },
  {
   "cell_type": "code",
   "execution_count": 311,
   "id": "8819f274",
   "metadata": {},
   "outputs": [],
   "source": [
    "train['Item_Weight']= train['Item_Weight'].fillna(train['Item_Weight'].mean())\n",
    "test['Item_Weight']= test['Item_Weight'].fillna(test['Item_Weight'].mean())"
   ]
  },
  {
   "cell_type": "markdown",
   "id": "eee7f106",
   "metadata": {},
   "source": [
    "##### 2) Outlet size \n"
   ]
  },
  {
   "cell_type": "code",
   "execution_count": 312,
   "id": "85f60b6b",
   "metadata": {},
   "outputs": [
    {
     "name": "stdout",
     "output_type": "stream",
     "text": [
      "\"Outlet_Size\" column in training set has 28.28% of missing values.\n",
      "\"Outlet_Size\" column in test set has 28.27% of missing values.\n"
     ]
    }
   ],
   "source": [
    "print('\"{}\" column in training set has {:.2f}% of missing values.'.format('Outlet_Size',\n",
    "                                                          train[\"Outlet_Size\"].isnull().sum() / train.shape[0] * 100))\n",
    "\n",
    "print('\"{}\" column in test set has {:.2f}% of missing values.'.format('Outlet_Size',\n",
    "                                                          test[\"Outlet_Size\"].isnull().sum() / test.shape[0] * 100))"
   ]
  },
  {
   "cell_type": "code",
   "execution_count": 313,
   "id": "52b8c565",
   "metadata": {},
   "outputs": [
    {
     "data": {
      "text/plain": [
       "(2410, 1606)"
      ]
     },
     "execution_count": 313,
     "metadata": {},
     "output_type": "execute_result"
    }
   ],
   "source": [
    "train[\"Outlet_Size\"].isnull().sum(), test[\"Outlet_Size\"].isnull().sum()"
   ]
  },
  {
   "cell_type": "code",
   "execution_count": 314,
   "id": "95d58192",
   "metadata": {},
   "outputs": [
    {
     "data": {
      "text/plain": [
       "Medium    2793\n",
       "Small     2388\n",
       "High       932\n",
       "Name: Outlet_Size, dtype: int64"
      ]
     },
     "execution_count": 314,
     "metadata": {},
     "output_type": "execute_result"
    }
   ],
   "source": [
    "# Checking nature of the data in the column\n",
    "train[\"Outlet_Size\"].value_counts()"
   ]
  },
  {
   "cell_type": "code",
   "execution_count": 315,
   "id": "017ee1ba",
   "metadata": {},
   "outputs": [
    {
     "data": {
      "text/plain": [
       "Medium    1862\n",
       "Small     1592\n",
       "High       621\n",
       "Name: Outlet_Size, dtype: int64"
      ]
     },
     "execution_count": 315,
     "metadata": {},
     "output_type": "execute_result"
    }
   ],
   "source": [
    "test[\"Outlet_Size\"].value_counts()"
   ]
  },
  {
   "cell_type": "markdown",
   "id": "eaab5d45",
   "metadata": {},
   "source": [
    "#### Displaying the percentage of categorical values in \"Outlet_size\""
   ]
  },
  {
   "cell_type": "code",
   "execution_count": 316,
   "id": "31fd2770",
   "metadata": {},
   "outputs": [
    {
     "name": "stdout",
     "output_type": "stream",
     "text": [
      "Percentage of 'Outlet_Size' column values in training dataset\n",
      "\n",
      "Medium    32.770151\n",
      "Small     28.018303\n",
      "High      10.935117\n",
      "Name: Outlet_Size, dtype: float64\n",
      "------------------------------------------------------------\n",
      "Percentage of 'Outlet_Size' column values in test dataset\n",
      "\n",
      "Medium    32.775920\n",
      "Small     28.023235\n",
      "High      10.931174\n",
      "Name: Outlet_Size, dtype: float64\n"
     ]
    }
   ],
   "source": [
    "# For train set\n",
    "print(\"Percentage of 'Outlet_Size' column values in training dataset\\n\")\n",
    "print(train[\"Outlet_Size\"].value_counts() / train.shape[0] * 100)\n",
    "print(\"-\"*60)\n",
    "print(\"Percentage of 'Outlet_Size' column values in test dataset\\n\")\n",
    "print(test[\"Outlet_Size\"].value_counts() / test.shape[0] * 100)"
   ]
  },
  {
   "cell_type": "markdown",
   "id": "5110b899",
   "metadata": {},
   "source": [
    "As we can see the most common outlet size in all the outlets is the **\"Medium\"** size outlet, doubling the size og small outlets."
   ]
  },
  {
   "cell_type": "markdown",
   "id": "2f104cb0",
   "metadata": {},
   "source": [
    "##### Since the outlet_size is a categorical column, we can impute the missing values by \"Mode\"(Most Repeated Value) from the column."
   ]
  },
  {
   "cell_type": "code",
   "execution_count": 317,
   "id": "792066a1",
   "metadata": {},
   "outputs": [],
   "source": [
    "train[\"Outlet_Size\"] = train[\"Outlet_Size\"].fillna(train[\"Outlet_Size\"].mode()[0])\n",
    "test[\"Outlet_Size\"] = test[\"Outlet_Size\"].fillna(test[\"Outlet_Size\"].mode()[0])"
   ]
  },
  {
   "cell_type": "markdown",
   "id": "c1914ac0",
   "metadata": {},
   "source": [
    "##### Sanity check"
   ]
  },
  {
   "cell_type": "code",
   "execution_count": 318,
   "id": "b328b6c3",
   "metadata": {},
   "outputs": [
    {
     "name": "stdout",
     "output_type": "stream",
     "text": [
      "--------------------------------------------------\n",
      "The DataFrame has No Missing Values!\n",
      "--------------------------------------------------\n"
     ]
    }
   ],
   "source": [
    "check_missing_values(train)"
   ]
  },
  {
   "cell_type": "code",
   "execution_count": 319,
   "id": "551b89d4",
   "metadata": {},
   "outputs": [
    {
     "name": "stdout",
     "output_type": "stream",
     "text": [
      "--------------------------------------------------\n",
      "The DataFrame has No Missing Values!\n",
      "--------------------------------------------------\n"
     ]
    }
   ],
   "source": [
    "check_missing_values(test)"
   ]
  },
  {
   "cell_type": "markdown",
   "id": "cb0fdf8f",
   "metadata": {},
   "source": [
    "--------- "
   ]
  },
  {
   "cell_type": "markdown",
   "id": "821f256b",
   "metadata": {},
   "source": [
    "##### I hava noticed that the item_fat_content has two categorical values but the are encoded unproparly"
   ]
  },
  {
   "cell_type": "code",
   "execution_count": 320,
   "id": "f942426c",
   "metadata": {},
   "outputs": [
    {
     "data": {
      "text/plain": [
       "Low Fat    5089\n",
       "Regular    2889\n",
       "LF          316\n",
       "reg         117\n",
       "low fat     112\n",
       "Name: Item_Fat_Content, dtype: int64"
      ]
     },
     "execution_count": 320,
     "metadata": {},
     "output_type": "execute_result"
    }
   ],
   "source": [
    "# Checking categorical values in the column\n",
    "train[\"Item_Fat_Content\"].value_counts()"
   ]
  },
  {
   "cell_type": "code",
   "execution_count": 321,
   "id": "5b598834",
   "metadata": {},
   "outputs": [],
   "source": [
    "# Fixing the column in train and test dataset\n",
    "train[\"Item_Fat_Content\"].replace({\"LF\":\"Low Fat\", \"low fat\": \"Low Fat\", \"reg\": \"Regular\"}, inplace=True)\n",
    "test[\"Item_Fat_Content\"].replace({\"LF\":\"Low Fat\", \"low fat\": \"Low Fat\", \"reg\": \"Regular\"}, inplace=True)"
   ]
  },
  {
   "cell_type": "code",
   "execution_count": 322,
   "id": "444a956b",
   "metadata": {},
   "outputs": [
    {
     "name": "stdout",
     "output_type": "stream",
     "text": [
      "Low Fat    5517\n",
      "Regular    3006\n",
      "Name: Item_Fat_Content, dtype: int64\n",
      "--------------------------------------------------\n",
      "Low Fat    3668\n",
      "Regular    2013\n",
      "Name: Item_Fat_Content, dtype: int64\n"
     ]
    }
   ],
   "source": [
    "# Sanity check\n",
    "print(train[\"Item_Fat_Content\"].value_counts())\n",
    "print(\"-\"*50)\n",
    "print(test[\"Item_Fat_Content\"].value_counts())"
   ]
  },
  {
   "cell_type": "markdown",
   "id": "6e68ba18",
   "metadata": {},
   "source": [
    "#### Also the column type needed to fixed"
   ]
  },
  {
   "cell_type": "code",
   "execution_count": 323,
   "id": "48b02b68",
   "metadata": {},
   "outputs": [],
   "source": [
    "# Changing the column type to string \n",
    "train[\"Item_Fat_Content\"] = train[\"Item_Fat_Content\"].apply(str)\n",
    "test[\"Item_Fat_Content\"] = test[\"Item_Fat_Content\"].astype(str)"
   ]
  },
  {
   "cell_type": "code",
   "execution_count": 324,
   "id": "84fbc4b4",
   "metadata": {},
   "outputs": [
    {
     "data": {
      "text/plain": [
       "(dtype('O'), dtype('O'))"
      ]
     },
     "execution_count": 324,
     "metadata": {},
     "output_type": "execute_result"
    }
   ],
   "source": [
    "# Sanity check\n",
    "train[\"Item_Fat_Content\"].dtypes, train[\"Item_Fat_Content\"].dtypes"
   ]
  },
  {
   "cell_type": "markdown",
   "id": "51b5ab94",
   "metadata": {},
   "source": [
    "#### Displaying the percentage of categorical values in \"Item_Fat_Content\""
   ]
  },
  {
   "cell_type": "code",
   "execution_count": 325,
   "id": "86c4164f",
   "metadata": {},
   "outputs": [
    {
     "name": "stdout",
     "output_type": "stream",
     "text": [
      "Percentage of 'Item_Fat_Content' column values in training dataset\n",
      "\n",
      "Low Fat    64.730729\n",
      "Regular    35.269271\n",
      "Name: Item_Fat_Content, dtype: float64\n",
      "------------------------------------------------------------\n",
      "Percentage of 'Item_Fat_Content' column values in test dataset\n",
      "\n",
      "Low Fat    64.566098\n",
      "Regular    35.433902\n",
      "Name: Item_Fat_Content, dtype: float64\n"
     ]
    }
   ],
   "source": [
    "# For train set\n",
    "print(\"Percentage of 'Item_Fat_Content' column values in training dataset\\n\")\n",
    "print(train[\"Item_Fat_Content\"].value_counts() / train.shape[0] * 100)\n",
    "print(\"-\"*60)\n",
    "print(\"Percentage of 'Item_Fat_Content' column values in test dataset\\n\")\n",
    "print(test[\"Item_Fat_Content\"].value_counts() / test.shape[0] * 100)"
   ]
  },
  {
   "cell_type": "markdown",
   "id": "fe57a279",
   "metadata": {},
   "source": [
    "The **\"Low_fat\"** items are approximatly double the values or regular one."
   ]
  },
  {
   "cell_type": "markdown",
   "id": "a94433ca",
   "metadata": {},
   "source": [
    "---------"
   ]
  },
  {
   "cell_type": "markdown",
   "id": "a1eef800",
   "metadata": {},
   "source": [
    "## Step 4  : EDA\n",
    "\n",
    "### 1) Univariate Analysis"
   ]
  },
  {
   "cell_type": "code",
   "execution_count": 326,
   "id": "aa04416e",
   "metadata": {},
   "outputs": [],
   "source": [
    "def plot_univariate(col,width,height):\n",
    "    \"\"\"\n",
    "    INPUT:\n",
    "        col: Column name to be ploted \n",
    "        width: Figure width\n",
    "        height: Figure hight \n",
    "        \n",
    "    RETURN: \n",
    "        A plot of counted categorical items in the column\n",
    "    \"\"\"\n",
    "    plt.figure(figsize=(width,height))\n",
    "    sns.countplot(x=col,data=train,palette='Blues_r',\n",
    "                  order=train[col].value_counts().index)\n",
    "\n",
    "    plt.title(\"Distribution of \"+col+\" in the supermarkets\",fontsize=18)\n",
    "    plt.xticks(rotation=90, fontsize=14)\n",
    "    plt.yticks(fontsize=14)\n",
    "    plt.xlabel(col,fontsize=16)\n",
    "    plt.ylabel(\"Count\",fontsize=16)"
   ]
  },
  {
   "cell_type": "markdown",
   "id": "144e003c",
   "metadata": {},
   "source": [
    "#### 1.1) Item Fat Content"
   ]
  },
  {
   "cell_type": "code",
   "execution_count": 327,
   "id": "1310b694",
   "metadata": {},
   "outputs": [
    {
     "data": {
      "image/png": "[encoded data removed]",
      "text/plain": [
       "<Figure size 648x360 with 1 Axes>"
      ]
     },
     "metadata": {
      "needs_background": "light"
     },
     "output_type": "display_data"
    }
   ],
   "source": [
    "plot_univariate(col=\"Item_Fat_Content\",width=9,height=5)"
   ]
  },
  {
   "cell_type": "markdown",
   "id": "10b6afd2",
   "metadata": {},
   "source": [
    "## Observations:\n",
    "\n",
    "* The Items bought are more of Low Fat.\n",
    "\n",
    "#### 1.2) Item type"
   ]
  },
  {
   "cell_type": "code",
   "execution_count": 328,
   "id": "4e685f71",
   "metadata": {},
   "outputs": [
    {
     "data": {
      "image/png": "[encoded data removed]",
      "text/plain": [
       "<Figure size 1008x504 with 1 Axes>"
      ]
     },
     "metadata": {
      "needs_background": "light"
     },
     "output_type": "display_data"
    }
   ],
   "source": [
    "plot_univariate(\"Item_Type\",14,7)"
   ]
  },
  {
   "cell_type": "markdown",
   "id": "286db100",
   "metadata": {},
   "source": [
    "## Observations:\n",
    "\n",
    "* \"Fruits and vegetables\" and \"Snack food\" are the most sold items in all the stores with all sizes.\n",
    "\n",
    "#### 1.3) Outlet Size"
   ]
  },
  {
   "cell_type": "code",
   "execution_count": 329,
   "id": "02523b4f",
   "metadata": {},
   "outputs": [
    {
     "data": {
      "image/png": "[encoded data removed]",
      "text/plain": [
       "<Figure size 648x360 with 1 Axes>"
      ]
     },
     "metadata": {
      "needs_background": "light"
     },
     "output_type": "display_data"
    }
   ],
   "source": [
    "plot_univariate(\"Outlet_Size\",9,5)"
   ]
  },
  {
   "cell_type": "markdown",
   "id": "2b623c6e",
   "metadata": {},
   "source": [
    "## Observations:\n",
    "\n",
    "* \"Medium\" stores are more than the double of \"Small\" and \"high\".\n"
   ]
  },
  {
   "cell_type": "markdown",
   "id": "f91f6c9c",
   "metadata": {},
   "source": [
    "### 2) Bivariate Analysis\n",
    "\n",
    "#### 2.1) Item Fat Content regarding to the total sales\n"
   ]
  },
  {
   "cell_type": "code",
   "execution_count": 330,
   "id": "dde624cc",
   "metadata": {},
   "outputs": [
    {
     "data": {
      "image/png": "[encoded data removed]",
      "text/plain": [
       "<Figure size 576x360 with 1 Axes>"
      ]
     },
     "metadata": {
      "needs_background": "light"
     },
     "output_type": "display_data"
    }
   ],
   "source": [
    "plt.figure(figsize=(8,5))\n",
    "sns.barplot(x='Item_Fat_Content',y='Item_Outlet_Sales',data=train,palette='mako');"
   ]
  },
  {
   "cell_type": "markdown",
   "id": "78b7dc20",
   "metadata": {},
   "source": [
    "### Observations:\n",
    "\n",
    "* The range of prices per item whether it is Low_Fat or Regular are approximatly near to each others, but higher in regular itmes."
   ]
  },
  {
   "cell_type": "code",
   "execution_count": 331,
   "id": "da3f9214",
   "metadata": {},
   "outputs": [
    {
     "data": {
      "text/plain": [
       "Item_Fat_Content\n",
       "Low Fat    1.190409e+07\n",
       "Regular    6.687031e+06\n",
       "Name: Item_Outlet_Sales, dtype: float64"
      ]
     },
     "execution_count": 331,
     "metadata": {},
     "output_type": "execute_result"
    }
   ],
   "source": [
    "train.groupby(\"Item_Fat_Content\")[\"Item_Outlet_Sales\"].sum()"
   ]
  },
  {
   "cell_type": "markdown",
   "id": "930df107",
   "metadata": {},
   "source": [
    "### Note:\n",
    "The \"Low_fat\" items in the outlets are more than double the regular ones, so the avrage sales of low_fat are much higher With \"5 mil\" differance."
   ]
  },
  {
   "cell_type": "markdown",
   "id": "3d50738b",
   "metadata": {},
   "source": [
    "---------"
   ]
  },
  {
   "cell_type": "markdown",
   "id": "1a655f0c",
   "metadata": {},
   "source": [
    "#### 2.2) Item Visibility\n",
    "\n",
    "The item visibility column has alot of values with zero in it this cannot be right, as the item is impossible to be unvisibile \n",
    "Lets chack that "
   ]
  },
  {
   "cell_type": "code",
   "execution_count": 332,
   "id": "6e900c2a",
   "metadata": {},
   "outputs": [
    {
     "name": "stdout",
     "output_type": "stream",
     "text": [
      "0.0\n",
      "##################################################\n",
      "\n",
      " 0.000000    526\n",
      "0.076975      3\n",
      "0.162462      2\n",
      "0.076841      2\n",
      "0.073562      2\n",
      "           ... \n",
      "0.013957      1\n",
      "0.110460      1\n",
      "0.124646      1\n",
      "0.054142      1\n",
      "0.044878      1\n",
      "Name: Item_Visibility, Length: 7880, dtype: int64\n"
     ]
    }
   ],
   "source": [
    "# Checking if the column has a zero value\n",
    "print(train[\"Item_Visibility\"].min())\n",
    "print(\"#\"*50)\n",
    "# Double checking\n",
    "print(\"\\n\",train[\"Item_Visibility\"].value_counts())"
   ]
  },
  {
   "cell_type": "markdown",
   "id": "0a989e03",
   "metadata": {},
   "source": [
    "*Lets impute this error with the mean*"
   ]
  },
  {
   "cell_type": "code",
   "execution_count": 333,
   "id": "aafde170",
   "metadata": {},
   "outputs": [],
   "source": [
    "# Imputing the column with the mean in both train and test datasets\n",
    "train[\"Item_Visibility\"] = train[\"Item_Visibility\"].replace({0.000000: train[\"Item_Visibility\"].mean()})\n",
    "test[\"Item_Visibility\"] = test[\"Item_Visibility\"].replace({0.000000: test[\"Item_Visibility\"].mean()})"
   ]
  },
  {
   "cell_type": "code",
   "execution_count": 334,
   "id": "73795356",
   "metadata": {},
   "outputs": [
    {
     "data": {
      "text/plain": [
       "(0.003574698, 0.003591414)"
      ]
     },
     "execution_count": 334,
     "metadata": {},
     "output_type": "execute_result"
    }
   ],
   "source": [
    "# Sanity check\n",
    "train[\"Item_Visibility\"].min(), test[\"Item_Visibility\"].min()"
   ]
  },
  {
   "cell_type": "code",
   "execution_count": 335,
   "id": "56534010",
   "metadata": {},
   "outputs": [
    {
     "data": {
      "image/png": "[encoded data removed]",
      "text/plain": [
       "<Figure size 648x360 with 1 Axes>"
      ]
     },
     "metadata": {
      "needs_background": "light"
     },
     "output_type": "display_data"
    }
   ],
   "source": [
    "# Ploting the distribution of the column\n",
    "plt.figure(figsize=(9,5))\n",
    "plt.scatter(x='Item_Outlet_Sales',y='Item_Visibility',data=train)\n",
    "plt.title(\"Relation between visibility of an item and its sales\", fontsize=16)\n",
    "plt.xlabel('Item Outlet Sales')\n",
    "plt.ylabel('Item Visibility');"
   ]
  },
  {
   "cell_type": "markdown",
   "id": "59228f32",
   "metadata": {},
   "source": [
    "We can see that now visibility is not exactly zero and it has some value indicating that Item is rarely purchased by the customers.\n",
    "\n"
   ]
  },
  {
   "cell_type": "markdown",
   "id": "3f6bd839",
   "metadata": {},
   "source": [
    "#### 2.3) Item_MRP\n",
    "Item_MRP column has maximum Retail Price (list price) of the product\n",
    "\n",
    "*At first lets visualize the column*"
   ]
  },
  {
   "cell_type": "code",
   "execution_count": 336,
   "id": "7866a984",
   "metadata": {},
   "outputs": [
    {
     "data": {
      "image/png": "[encoded data removed]",
      "text/plain": [
       "<Figure size 576x360 with 1 Axes>"
      ]
     },
     "metadata": {
      "needs_background": "light"
     },
     "output_type": "display_data"
    }
   ],
   "source": [
    "plt.figure(figsize=(8,5))\n",
    "plt.scatter(y='Item_Outlet_Sales',x='Item_MRP',data=train)\n",
    "plt.xlabel('Item MRP')\n",
    "plt.ylabel('Item Outlet Sales')\n",
    "plt.title(\"Item MRP regarding total sales in all markets\", fontsize=14);"
   ]
  },
  {
   "cell_type": "markdown",
   "id": "de315c17",
   "metadata": {},
   "source": [
    "As you can see the item MRP is kinda divided to four categories, the last two categories indicates that they tend to have higher sales.\n",
    "\n",
    "Next step i will divide this column to four categories and the thir affect Item sales, and its better to be visiualized with barplot"
   ]
  },
  {
   "cell_type": "code",
   "execution_count": 337,
   "id": "14a3cb55",
   "metadata": {},
   "outputs": [
    {
     "data": {
      "image/png": "[encoded data removed]",
      "text/plain": [
       "<Figure size 576x360 with 1 Axes>"
      ]
     },
     "metadata": {
      "needs_background": "light"
     },
     "output_type": "display_data"
    }
   ],
   "source": [
    "# Slicing the Item_MRP column into four categories \n",
    "train[\"Item_MRP_cat\"] = pd.cut(train[\"Item_MRP\"], [30,70,135,205,270])\n",
    "\n",
    "# making sure i slice the data correct into those four categories\n",
    "plt.figure(figsize=(8,5))\n",
    "sns.barplot(y='Item_Outlet_Sales',x=\"Item_MRP_cat\" ,data=train);"
   ]
  },
  {
   "cell_type": "markdown",
   "id": "a653b1eb",
   "metadata": {},
   "source": [
    "As you can see the data is alraedy cut into four categories \n",
    "\n",
    "Now i will preform numerical analysis on those categories"
   ]
  },
  {
   "cell_type": "code",
   "execution_count": 338,
   "id": "657f118b",
   "metadata": {},
   "outputs": [
    {
     "data": {
      "text/html": [
       "<div>\n",
       "<style scoped>\n",
       "    .dataframe tbody tr th:only-of-type {\n",
       "        vertical-align: middle;\n",
       "    }\n",
       "\n",
       "    .dataframe tbody tr th {\n",
       "        vertical-align: top;\n",
       "    }\n",
       "\n",
       "    .dataframe thead th {\n",
       "        text-align: right;\n",
       "    }\n",
       "</style>\n",
       "<table border=\"1\" class=\"dataframe\">\n",
       "  <thead>\n",
       "    <tr style=\"text-align: right;\">\n",
       "      <th></th>\n",
       "      <th>count</th>\n",
       "      <th>mean</th>\n",
       "      <th>std</th>\n",
       "      <th>min</th>\n",
       "      <th>25%</th>\n",
       "      <th>50%</th>\n",
       "      <th>75%</th>\n",
       "      <th>max</th>\n",
       "    </tr>\n",
       "    <tr>\n",
       "      <th>Item_MRP_cat</th>\n",
       "      <th></th>\n",
       "      <th></th>\n",
       "      <th></th>\n",
       "      <th></th>\n",
       "      <th></th>\n",
       "      <th></th>\n",
       "      <th></th>\n",
       "      <th></th>\n",
       "    </tr>\n",
       "  </thead>\n",
       "  <tbody>\n",
       "    <tr>\n",
       "      <th>(30, 70]</th>\n",
       "      <td>1341.0</td>\n",
       "      <td>736.474596</td>\n",
       "      <td>492.895628</td>\n",
       "      <td>33.2900</td>\n",
       "      <td>379.5060</td>\n",
       "      <td>679.1160</td>\n",
       "      <td>986.7156</td>\n",
       "      <td>3112.6150</td>\n",
       "    </tr>\n",
       "    <tr>\n",
       "      <th>(70, 135]</th>\n",
       "      <td>2751.0</td>\n",
       "      <td>1615.644414</td>\n",
       "      <td>1002.562854</td>\n",
       "      <td>73.2380</td>\n",
       "      <td>885.5140</td>\n",
       "      <td>1523.3504</td>\n",
       "      <td>2181.1608</td>\n",
       "      <td>7158.6816</td>\n",
       "    </tr>\n",
       "    <tr>\n",
       "      <th>(135, 205]</th>\n",
       "      <td>3003.0</td>\n",
       "      <td>2632.137093</td>\n",
       "      <td>1611.594220</td>\n",
       "      <td>139.8180</td>\n",
       "      <td>1470.0864</td>\n",
       "      <td>2546.6850</td>\n",
       "      <td>3595.3200</td>\n",
       "      <td>9554.2300</td>\n",
       "    </tr>\n",
       "    <tr>\n",
       "      <th>(205, 270]</th>\n",
       "      <td>1428.0</td>\n",
       "      <td>3679.669120</td>\n",
       "      <td>2123.502829</td>\n",
       "      <td>207.0638</td>\n",
       "      <td>2096.2713</td>\n",
       "      <td>3589.9936</td>\n",
       "      <td>5103.3570</td>\n",
       "      <td>13086.9648</td>\n",
       "    </tr>\n",
       "  </tbody>\n",
       "</table>\n",
       "</div>"
      ],
      "text/plain": [
       "               count         mean          std       min        25%  \\\n",
       "Item_MRP_cat                                                          \n",
       "(30, 70]      1341.0   736.474596   492.895628   33.2900   379.5060   \n",
       "(70, 135]     2751.0  1615.644414  1002.562854   73.2380   885.5140   \n",
       "(135, 205]    3003.0  2632.137093  1611.594220  139.8180  1470.0864   \n",
       "(205, 270]    1428.0  3679.669120  2123.502829  207.0638  2096.2713   \n",
       "\n",
       "                    50%        75%         max  \n",
       "Item_MRP_cat                                    \n",
       "(30, 70]       679.1160   986.7156   3112.6150  \n",
       "(70, 135]     1523.3504  2181.1608   7158.6816  \n",
       "(135, 205]    2546.6850  3595.3200   9554.2300  \n",
       "(205, 270]    3589.9936  5103.3570  13086.9648  "
      ]
     },
     "execution_count": 338,
     "metadata": {},
     "output_type": "execute_result"
    }
   ],
   "source": [
    "# seeing the numerical charactaristics for these categories\n",
    "train.groupby(\"Item_MRP_cat\")[\"Item_Outlet_Sales\"].describe()"
   ]
  },
  {
   "cell_type": "code",
   "execution_count": 339,
   "id": "5c3c5306",
   "metadata": {},
   "outputs": [
    {
     "name": "stderr",
     "output_type": "stream",
     "text": [
      "C:\\ProgramData\\Anaconda3\\lib\\site-packages\\seaborn\\_decorators.py:36: FutureWarning: Pass the following variables as keyword args: x, y. From version 0.12, the only valid positional argument will be `data`, and passing other arguments without an explicit keyword will result in an error or misinterpretation.\n",
      "  warnings.warn(\n"
     ]
    },
    {
     "data": {
      "image/png": "[encoded data removed]",
      "text/plain": [
       "<Figure size 432x288 with 1 Axes>"
      ]
     },
     "metadata": {
      "needs_background": "light"
     },
     "output_type": "display_data"
    }
   ],
   "source": [
    "p =train.groupby(\"Item_MRP_cat\")[\"Item_Outlet_Sales\"].count().sort_values(ascending=False)\n",
    "sns.barplot(p.index,p);"
   ]
  },
  {
   "cell_type": "markdown",
   "id": "279a39b8",
   "metadata": {},
   "source": [
    "From the table above we can conclude that \n",
    "  - You can see that the number of sales made by the second categore which its Maximum Retail Price(MRP) between **((70, 135])** and **((135,205])** are nearly double the number of sales made by any other category, This means we should increase the most purchased product with this range  of Maximum Retail Price(MRP) in all supermarkets.\n",
    "  \n",
    "  - Also the mean of the products with MRP more than 200 is high , this is because it has higher price but not because it is purchased a lot."
   ]
  },
  {
   "cell_type": "markdown",
   "id": "a4e0c36c",
   "metadata": {},
   "source": [
    "----------"
   ]
  },
  {
   "cell_type": "markdown",
   "id": "ab5cb55e",
   "metadata": {},
   "source": [
    "#### 2.4) Outlet_Establishment_Year\n",
    "The year in which store was established.\n"
   ]
  },
  {
   "cell_type": "code",
   "execution_count": 340,
   "id": "32dbe298",
   "metadata": {},
   "outputs": [
    {
     "data": {
      "text/html": [
       "<div>\n",
       "<style scoped>\n",
       "    .dataframe tbody tr th:only-of-type {\n",
       "        vertical-align: middle;\n",
       "    }\n",
       "\n",
       "    .dataframe tbody tr th {\n",
       "        vertical-align: top;\n",
       "    }\n",
       "\n",
       "    .dataframe thead th {\n",
       "        text-align: right;\n",
       "    }\n",
       "</style>\n",
       "<table border=\"1\" class=\"dataframe\">\n",
       "  <thead>\n",
       "    <tr style=\"text-align: right;\">\n",
       "      <th></th>\n",
       "      <th>count</th>\n",
       "      <th>mean</th>\n",
       "      <th>std</th>\n",
       "      <th>min</th>\n",
       "      <th>25%</th>\n",
       "      <th>50%</th>\n",
       "      <th>75%</th>\n",
       "      <th>max</th>\n",
       "    </tr>\n",
       "    <tr>\n",
       "      <th>Outlet_Establishment_Year</th>\n",
       "      <th></th>\n",
       "      <th></th>\n",
       "      <th></th>\n",
       "      <th></th>\n",
       "      <th></th>\n",
       "      <th></th>\n",
       "      <th></th>\n",
       "      <th></th>\n",
       "    </tr>\n",
       "  </thead>\n",
       "  <tbody>\n",
       "    <tr>\n",
       "      <th>1985</th>\n",
       "      <td>1463.0</td>\n",
       "      <td>2483.677474</td>\n",
       "      <td>2347.516621</td>\n",
       "      <td>33.9558</td>\n",
       "      <td>399.48000</td>\n",
       "      <td>1845.5976</td>\n",
       "      <td>3968.16800</td>\n",
       "      <td>13086.9648</td>\n",
       "    </tr>\n",
       "    <tr>\n",
       "      <th>1987</th>\n",
       "      <td>932.0</td>\n",
       "      <td>2298.995256</td>\n",
       "      <td>1533.531664</td>\n",
       "      <td>73.2380</td>\n",
       "      <td>1072.60380</td>\n",
       "      <td>2050.6640</td>\n",
       "      <td>3166.37835</td>\n",
       "      <td>10256.6490</td>\n",
       "    </tr>\n",
       "    <tr>\n",
       "      <th>1997</th>\n",
       "      <td>930.0</td>\n",
       "      <td>2277.844267</td>\n",
       "      <td>1488.405631</td>\n",
       "      <td>101.8674</td>\n",
       "      <td>1137.18640</td>\n",
       "      <td>1945.8005</td>\n",
       "      <td>3095.63710</td>\n",
       "      <td>9779.9362</td>\n",
       "    </tr>\n",
       "    <tr>\n",
       "      <th>1998</th>\n",
       "      <td>555.0</td>\n",
       "      <td>339.351662</td>\n",
       "      <td>271.014855</td>\n",
       "      <td>33.2900</td>\n",
       "      <td>154.13270</td>\n",
       "      <td>250.3408</td>\n",
       "      <td>455.40720</td>\n",
       "      <td>1775.6886</td>\n",
       "    </tr>\n",
       "    <tr>\n",
       "      <th>1999</th>\n",
       "      <td>930.0</td>\n",
       "      <td>2348.354635</td>\n",
       "      <td>1513.289464</td>\n",
       "      <td>111.8544</td>\n",
       "      <td>1182.79370</td>\n",
       "      <td>1966.1074</td>\n",
       "      <td>3281.72820</td>\n",
       "      <td>7646.0472</td>\n",
       "    </tr>\n",
       "    <tr>\n",
       "      <th>2002</th>\n",
       "      <td>929.0</td>\n",
       "      <td>2192.384798</td>\n",
       "      <td>1462.399658</td>\n",
       "      <td>99.8700</td>\n",
       "      <td>1068.60900</td>\n",
       "      <td>1834.9448</td>\n",
       "      <td>2929.52000</td>\n",
       "      <td>8994.9580</td>\n",
       "    </tr>\n",
       "    <tr>\n",
       "      <th>2004</th>\n",
       "      <td>930.0</td>\n",
       "      <td>2438.841866</td>\n",
       "      <td>1538.512533</td>\n",
       "      <td>113.8518</td>\n",
       "      <td>1238.88735</td>\n",
       "      <td>2109.2544</td>\n",
       "      <td>3310.35760</td>\n",
       "      <td>8479.6288</td>\n",
       "    </tr>\n",
       "    <tr>\n",
       "      <th>2007</th>\n",
       "      <td>926.0</td>\n",
       "      <td>2340.675263</td>\n",
       "      <td>1550.778025</td>\n",
       "      <td>143.8128</td>\n",
       "      <td>1195.94325</td>\n",
       "      <td>2005.0567</td>\n",
       "      <td>3096.46935</td>\n",
       "      <td>9664.7528</td>\n",
       "    </tr>\n",
       "    <tr>\n",
       "      <th>2009</th>\n",
       "      <td>928.0</td>\n",
       "      <td>1995.498739</td>\n",
       "      <td>1375.932889</td>\n",
       "      <td>69.2432</td>\n",
       "      <td>981.55565</td>\n",
       "      <td>1655.1788</td>\n",
       "      <td>2702.64865</td>\n",
       "      <td>6768.5228</td>\n",
       "    </tr>\n",
       "  </tbody>\n",
       "</table>\n",
       "</div>"
      ],
      "text/plain": [
       "                            count         mean          std       min  \\\n",
       "Outlet_Establishment_Year                                               \n",
       "1985                       1463.0  2483.677474  2347.516621   33.9558   \n",
       "1987                        932.0  2298.995256  1533.531664   73.2380   \n",
       "1997                        930.0  2277.844267  1488.405631  101.8674   \n",
       "1998                        555.0   339.351662   271.014855   33.2900   \n",
       "1999                        930.0  2348.354635  1513.289464  111.8544   \n",
       "2002                        929.0  2192.384798  1462.399658   99.8700   \n",
       "2004                        930.0  2438.841866  1538.512533  113.8518   \n",
       "2007                        926.0  2340.675263  1550.778025  143.8128   \n",
       "2009                        928.0  1995.498739  1375.932889   69.2432   \n",
       "\n",
       "                                  25%        50%         75%         max  \n",
       "Outlet_Establishment_Year                                                 \n",
       "1985                        399.48000  1845.5976  3968.16800  13086.9648  \n",
       "1987                       1072.60380  2050.6640  3166.37835  10256.6490  \n",
       "1997                       1137.18640  1945.8005  3095.63710   9779.9362  \n",
       "1998                        154.13270   250.3408   455.40720   1775.6886  \n",
       "1999                       1182.79370  1966.1074  3281.72820   7646.0472  \n",
       "2002                       1068.60900  1834.9448  2929.52000   8994.9580  \n",
       "2004                       1238.88735  2109.2544  3310.35760   8479.6288  \n",
       "2007                       1195.94325  2005.0567  3096.46935   9664.7528  \n",
       "2009                        981.55565  1655.1788  2702.64865   6768.5228  "
      ]
     },
     "execution_count": 340,
     "metadata": {},
     "output_type": "execute_result"
    }
   ],
   "source": [
    "# Numerical charactaristics of years related to sales\n",
    "train.groupby(\"Outlet_Establishment_Year\")[\"Item_Outlet_Sales\"].describe()"
   ]
  },
  {
   "cell_type": "markdown",
   "id": "d582ff5c",
   "metadata": {},
   "source": [
    "The count of sales made in all years are nearly thr same except for \"1985\" and \"1998\", the first is higher that the usual and the latter is way smaller. so its raises two questions here :-\n",
    "- 1) What happend in \"1985\"?\n",
    "    - Is it the first year and the starting busuness tend to have higher sales in the first year? \n",
    "    Or\n",
    "    - there is something else related to the properties of the outlets?\n",
    "- 2) What happend in \"1998\", why the sales droped down so far on this year?"
   ]
  },
  {
   "cell_type": "markdown",
   "id": "06b9a9ac",
   "metadata": {},
   "source": [
    "###### Let me do further analysis to understand the data better before answering these questions.\n",
    "From the data describtion \"Outlet_Establishment_year\" is the year in which store was established, not the years we collected the sales data, so we cant perform time series analysis, and the years column better be a categorical column.\n",
    "\n",
    "so this analysis is to back up this theory and understand better. "
   ]
  },
  {
   "cell_type": "code",
   "execution_count": 341,
   "id": "a93edf54",
   "metadata": {},
   "outputs": [
    {
     "data": {
      "text/plain": [
       "Outlet_Identifier\n",
       "OUT010    [1998]\n",
       "OUT013    [1987]\n",
       "OUT017    [2007]\n",
       "OUT018    [2009]\n",
       "OUT019    [1985]\n",
       "OUT027    [1985]\n",
       "OUT035    [2004]\n",
       "OUT045    [2002]\n",
       "OUT046    [1997]\n",
       "OUT049    [1999]\n",
       "Name: Outlet_Establishment_Year, dtype: object"
      ]
     },
     "execution_count": 341,
     "metadata": {},
     "output_type": "execute_result"
    }
   ],
   "source": [
    "# Grouping Outlet_identifier with the years it was established in.\n",
    "train.Outlet_Establishment_Year.groupby(train.Outlet_Identifier).apply(np.array).apply(lambda x: np.unique(x))"
   ]
  },
  {
   "cell_type": "markdown",
   "id": "8765a605",
   "metadata": {},
   "source": [
    "##### Observations:\n",
    "The \"Outlet_Establishment_Year\" Is a categorical column indicating in which year the outlet is established.\n",
    "\n",
    "ALso as we can see regarding the fist question we raised earlier which is:\n",
    "- 1) What happend in \"1985\"?\n",
    "    - Is it the first year and the starting busuness tend to have higher sales in the first year? \n",
    "    Or\n",
    "    - there is something else related to the properties of the outlets?\n",
    "    \n",
    "#### Answer :\n",
    "The year \"1985\" was a year that Bigmart established **TWO** Outlets (\"OUT019\" and \"OUT027\"), so when we grouped the sales with years, the first year was the sales of two outlets (\"OUT019\" and \"OUT027\") together."
   ]
  },
  {
   "cell_type": "markdown",
   "id": "6013ef7a",
   "metadata": {},
   "source": [
    "So its better to group the sales by the Outlet_Identifier"
   ]
  },
  {
   "cell_type": "code",
   "execution_count": 342,
   "id": "dbb92f84",
   "metadata": {},
   "outputs": [
    {
     "data": {
      "text/html": [
       "<div>\n",
       "<style scoped>\n",
       "    .dataframe tbody tr th:only-of-type {\n",
       "        vertical-align: middle;\n",
       "    }\n",
       "\n",
       "    .dataframe tbody tr th {\n",
       "        vertical-align: top;\n",
       "    }\n",
       "\n",
       "    .dataframe thead th {\n",
       "        text-align: right;\n",
       "    }\n",
       "</style>\n",
       "<table border=\"1\" class=\"dataframe\">\n",
       "  <thead>\n",
       "    <tr style=\"text-align: right;\">\n",
       "      <th></th>\n",
       "      <th>count</th>\n",
       "      <th>mean</th>\n",
       "      <th>std</th>\n",
       "      <th>min</th>\n",
       "      <th>25%</th>\n",
       "      <th>50%</th>\n",
       "      <th>75%</th>\n",
       "      <th>max</th>\n",
       "    </tr>\n",
       "    <tr>\n",
       "      <th>Outlet_Identifier</th>\n",
       "      <th></th>\n",
       "      <th></th>\n",
       "      <th></th>\n",
       "      <th></th>\n",
       "      <th></th>\n",
       "      <th></th>\n",
       "      <th></th>\n",
       "      <th></th>\n",
       "    </tr>\n",
       "  </thead>\n",
       "  <tbody>\n",
       "    <tr>\n",
       "      <th>OUT010</th>\n",
       "      <td>555.0</td>\n",
       "      <td>339.351662</td>\n",
       "      <td>271.014855</td>\n",
       "      <td>33.2900</td>\n",
       "      <td>154.13270</td>\n",
       "      <td>250.3408</td>\n",
       "      <td>455.40720</td>\n",
       "      <td>1775.6886</td>\n",
       "    </tr>\n",
       "    <tr>\n",
       "      <th>OUT013</th>\n",
       "      <td>932.0</td>\n",
       "      <td>2298.995256</td>\n",
       "      <td>1533.531664</td>\n",
       "      <td>73.2380</td>\n",
       "      <td>1072.60380</td>\n",
       "      <td>2050.6640</td>\n",
       "      <td>3166.37835</td>\n",
       "      <td>10256.6490</td>\n",
       "    </tr>\n",
       "    <tr>\n",
       "      <th>OUT017</th>\n",
       "      <td>926.0</td>\n",
       "      <td>2340.675263</td>\n",
       "      <td>1550.778025</td>\n",
       "      <td>143.8128</td>\n",
       "      <td>1195.94325</td>\n",
       "      <td>2005.0567</td>\n",
       "      <td>3096.46935</td>\n",
       "      <td>9664.7528</td>\n",
       "    </tr>\n",
       "    <tr>\n",
       "      <th>OUT018</th>\n",
       "      <td>928.0</td>\n",
       "      <td>1995.498739</td>\n",
       "      <td>1375.932889</td>\n",
       "      <td>69.2432</td>\n",
       "      <td>981.55565</td>\n",
       "      <td>1655.1788</td>\n",
       "      <td>2702.64865</td>\n",
       "      <td>6768.5228</td>\n",
       "    </tr>\n",
       "    <tr>\n",
       "      <th>OUT019</th>\n",
       "      <td>528.0</td>\n",
       "      <td>340.329723</td>\n",
       "      <td>249.979449</td>\n",
       "      <td>33.9558</td>\n",
       "      <td>153.63335</td>\n",
       "      <td>265.3213</td>\n",
       "      <td>460.73360</td>\n",
       "      <td>1482.0708</td>\n",
       "    </tr>\n",
       "    <tr>\n",
       "      <th>OUT027</th>\n",
       "      <td>935.0</td>\n",
       "      <td>3694.038558</td>\n",
       "      <td>2127.760054</td>\n",
       "      <td>241.6854</td>\n",
       "      <td>2044.33890</td>\n",
       "      <td>3364.9532</td>\n",
       "      <td>4975.52340</td>\n",
       "      <td>13086.9648</td>\n",
       "    </tr>\n",
       "    <tr>\n",
       "      <th>OUT035</th>\n",
       "      <td>930.0</td>\n",
       "      <td>2438.841866</td>\n",
       "      <td>1538.512533</td>\n",
       "      <td>113.8518</td>\n",
       "      <td>1238.88735</td>\n",
       "      <td>2109.2544</td>\n",
       "      <td>3310.35760</td>\n",
       "      <td>8479.6288</td>\n",
       "    </tr>\n",
       "    <tr>\n",
       "      <th>OUT045</th>\n",
       "      <td>929.0</td>\n",
       "      <td>2192.384798</td>\n",
       "      <td>1462.399658</td>\n",
       "      <td>99.8700</td>\n",
       "      <td>1068.60900</td>\n",
       "      <td>1834.9448</td>\n",
       "      <td>2929.52000</td>\n",
       "      <td>8994.9580</td>\n",
       "    </tr>\n",
       "    <tr>\n",
       "      <th>OUT046</th>\n",
       "      <td>930.0</td>\n",
       "      <td>2277.844267</td>\n",
       "      <td>1488.405631</td>\n",
       "      <td>101.8674</td>\n",
       "      <td>1137.18640</td>\n",
       "      <td>1945.8005</td>\n",
       "      <td>3095.63710</td>\n",
       "      <td>9779.9362</td>\n",
       "    </tr>\n",
       "    <tr>\n",
       "      <th>OUT049</th>\n",
       "      <td>930.0</td>\n",
       "      <td>2348.354635</td>\n",
       "      <td>1513.289464</td>\n",
       "      <td>111.8544</td>\n",
       "      <td>1182.79370</td>\n",
       "      <td>1966.1074</td>\n",
       "      <td>3281.72820</td>\n",
       "      <td>7646.0472</td>\n",
       "    </tr>\n",
       "  </tbody>\n",
       "</table>\n",
       "</div>"
      ],
      "text/plain": [
       "                   count         mean          std       min         25%  \\\n",
       "Outlet_Identifier                                                          \n",
       "OUT010             555.0   339.351662   271.014855   33.2900   154.13270   \n",
       "OUT013             932.0  2298.995256  1533.531664   73.2380  1072.60380   \n",
       "OUT017             926.0  2340.675263  1550.778025  143.8128  1195.94325   \n",
       "OUT018             928.0  1995.498739  1375.932889   69.2432   981.55565   \n",
       "OUT019             528.0   340.329723   249.979449   33.9558   153.63335   \n",
       "OUT027             935.0  3694.038558  2127.760054  241.6854  2044.33890   \n",
       "OUT035             930.0  2438.841866  1538.512533  113.8518  1238.88735   \n",
       "OUT045             929.0  2192.384798  1462.399658   99.8700  1068.60900   \n",
       "OUT046             930.0  2277.844267  1488.405631  101.8674  1137.18640   \n",
       "OUT049             930.0  2348.354635  1513.289464  111.8544  1182.79370   \n",
       "\n",
       "                         50%         75%         max  \n",
       "Outlet_Identifier                                     \n",
       "OUT010              250.3408   455.40720   1775.6886  \n",
       "OUT013             2050.6640  3166.37835  10256.6490  \n",
       "OUT017             2005.0567  3096.46935   9664.7528  \n",
       "OUT018             1655.1788  2702.64865   6768.5228  \n",
       "OUT019              265.3213   460.73360   1482.0708  \n",
       "OUT027             3364.9532  4975.52340  13086.9648  \n",
       "OUT035             2109.2544  3310.35760   8479.6288  \n",
       "OUT045             1834.9448  2929.52000   8994.9580  \n",
       "OUT046             1945.8005  3095.63710   9779.9362  \n",
       "OUT049             1966.1074  3281.72820   7646.0472  "
      ]
     },
     "execution_count": 342,
     "metadata": {},
     "output_type": "execute_result"
    }
   ],
   "source": [
    "train.groupby(\"Outlet_Identifier\")[\"Item_Outlet_Sales\"].describe()"
   ]
  },
  {
   "cell_type": "markdown",
   "id": "191557ee",
   "metadata": {},
   "source": [
    "It appears now that every outlet has approximately the same number and mean of sales except for \"OUT010\" and \"OUT019\" **Why?**"
   ]
  },
  {
   "cell_type": "code",
   "execution_count": 343,
   "id": "80f85b17",
   "metadata": {},
   "outputs": [
    {
     "data": {
      "text/plain": [
       "Outlet_Identifier\n",
       "OUT010        [Grocery Store, Medium]\n",
       "OUT013      [High, Supermarket Type1]\n",
       "OUT017    [Medium, Supermarket Type1]\n",
       "OUT018    [Medium, Supermarket Type2]\n",
       "OUT019         [Grocery Store, Small]\n",
       "OUT027    [Medium, Supermarket Type3]\n",
       "OUT035     [Small, Supermarket Type1]\n",
       "OUT045    [Medium, Supermarket Type1]\n",
       "OUT046     [Small, Supermarket Type1]\n",
       "OUT049    [Medium, Supermarket Type1]\n",
       "dtype: object"
      ]
     },
     "execution_count": 343,
     "metadata": {},
     "output_type": "execute_result"
    }
   ],
   "source": [
    "# Grouping cat columns grouped by to understand better\n",
    "train[[\"Outlet_Type\",'Outlet_Size']].groupby(\n",
    "                                             train.Outlet_Identifier).apply(np.array).apply(\n",
    "                                             lambda x: np.unique(x))"
   ]
  },
  {
   "cell_type": "markdown",
   "id": "db632a6d",
   "metadata": {},
   "source": [
    "The \"OUT010\" and \"OUT019\" established in 1998 and 1985 are the only two stores that are a \"Grocery Store\" with smal size.\n",
    "So it justifies the small number of sales they made, also the average sales they made are less than the other outlets as the maximum price pf an item in these outlets is 1500 while it is 10000 in the other outlets.\n",
    "\n",
    "**So to sum up:**\n",
    "\n",
    "These two outlets have **lower num of sales** made, and **lower price of item** relative to the other outlets, so it justifies lower number of overall Outlet sales.**\n"
   ]
  },
  {
   "cell_type": "markdown",
   "id": "6b8d9c68",
   "metadata": {},
   "source": [
    "#### 2.5) Item type affecting the sales\n"
   ]
  },
  {
   "cell_type": "code",
   "execution_count": 344,
   "id": "1dceeb65",
   "metadata": {},
   "outputs": [],
   "source": [
    "# Order item types and their total sales\n",
    "order_type = train.groupby(\"Item_Type\")[\"Item_Outlet_Sales\"].sum().sort_values(ascending=False)"
   ]
  },
  {
   "cell_type": "code",
   "execution_count": 345,
   "id": "1423b5cf",
   "metadata": {},
   "outputs": [
    {
     "name": "stderr",
     "output_type": "stream",
     "text": [
      "C:\\ProgramData\\Anaconda3\\lib\\site-packages\\seaborn\\_decorators.py:36: FutureWarning: Pass the following variables as keyword args: x, y. From version 0.12, the only valid positional argument will be `data`, and passing other arguments without an explicit keyword will result in an error or misinterpretation.\n",
      "  warnings.warn(\n"
     ]
    },
    {
     "data": {
      "image/png": "[encoded data removed]",
      "text/plain": [
       "<Figure size 720x432 with 1 Axes>"
      ]
     },
     "metadata": {
      "needs_background": "light"
     },
     "output_type": "display_data"
    }
   ],
   "source": [
    "plt.figure(figsize=(10,6))\n",
    "sns.barplot(order_type.index,order_type,palette='Blues_r')\n",
    "plt.xticks(rotation=90)\n",
    "plt.title(\"Total sales of each item type\", fontsize=16);"
   ]
  },
  {
   "cell_type": "markdown",
   "id": "9365a6fb",
   "metadata": {},
   "source": [
    "### Observations:\n",
    "\n",
    "* \"Fruits and Vegetables\" & \"Snack Foods\" are the most sold types in all the outlets with differance about 0.5 million over the next item."
   ]
  },
  {
   "cell_type": "markdown",
   "id": "5ac15c9e",
   "metadata": {},
   "source": [
    "## Step 5  : Feature Engineering"
   ]
  },
  {
   "cell_type": "markdown",
   "id": "81646d8d",
   "metadata": {},
   "source": [
    "We will build a preprocessing pipeline, inside i am goging to scale the numerical data and encode the categorical ones then adding the classifier "
   ]
  },
  {
   "cell_type": "code",
   "execution_count": 346,
   "id": "152e97d0",
   "metadata": {},
   "outputs": [],
   "source": [
    "# Importing the important libiries\n",
    "\n",
    "from sklearn.compose import ColumnTransformer\n",
    "from sklearn.pipeline import Pipeline\n",
    "from sklearn.impute import SimpleImputer\n",
    "from sklearn.preprocessing import StandardScaler, OneHotEncoder\n",
    "from sklearn.model_selection import train_test_split, GridSearchCV\n",
    "\n",
    "np.random.seed(0)"
   ]
  },
  {
   "cell_type": "code",
   "execution_count": 347,
   "id": "4b6d4766",
   "metadata": {},
   "outputs": [],
   "source": [
    "# Buliding the first part of the pipeline\n",
    "# Scaling the numeric features \n",
    "num_features = [\"Item_Weight\",\"Item_Visibility\",\"Item_MRP\"]\n",
    "numeric_transformer= Pipeline(\n",
    "    steps=[(\"scaler\", StandardScaler())]\n",
    ")\n",
    "\n",
    "# Encoding the important categorical features\n",
    "categorical_features = train.select_dtypes(include=['object']).columns.tolist()\n",
    "categorical_transformer = OneHotEncoder(handle_unknown=\"ignore\")\n",
    "\n",
    "preprocessor = ColumnTransformer(\n",
    "    transformers=[\n",
    "        (\"num\", numeric_transformer, num_features),\n",
    "        (\"cat\", categorical_transformer, categorical_features),\n",
    "    ]\n",
    ")"
   ]
  },
  {
   "cell_type": "markdown",
   "id": "b0407ac7",
   "metadata": {},
   "source": [
    "## 1) Linear regression\n",
    "Appending Linear regression classifier to preprocessing pipeline. Now we have a full prediction pipeline."
   ]
  },
  {
   "cell_type": "code",
   "execution_count": 348,
   "id": "e3ae5909",
   "metadata": {},
   "outputs": [],
   "source": [
    "# Linearclassfier pipeline model\n",
    "LR_clf = Pipeline(\n",
    "    steps= [(\"preprocessor\", preprocessor),\n",
    "    (\"classifier\", LinearRegression())]\n",
    ")"
   ]
  },
  {
   "cell_type": "code",
   "execution_count": 349,
   "id": "a954a3c9",
   "metadata": {},
   "outputs": [],
   "source": [
    "# Splitting the train data to dataset and a target value \n",
    "y= train['Item_Outlet_Sales']\n",
    "X= train.drop(\"Item_Outlet_Sales\", axis=1)"
   ]
  },
  {
   "cell_type": "code",
   "execution_count": 350,
   "id": "2f23955a",
   "metadata": {},
   "outputs": [
    {
     "name": "stdout",
     "output_type": "stream",
     "text": [
      "model score: 0.409\n"
     ]
    }
   ],
   "source": [
    "# Splitting the data to train and test sets\n",
    "X_train, X_test, y_train, y_test = train_test_split(X, y, test_size=0.2, random_state=0)\n",
    "\n",
    "# Fitting the model\n",
    "LR_clf.fit(X_train, y_train)\n",
    "print(\"model score: %.3f\" % LR_clf.score(X_test, y_test))"
   ]
  },
  {
   "cell_type": "markdown",
   "id": "2c3f03e0",
   "metadata": {},
   "source": [
    "### Hyperparamters tuning for the model\n",
    "\n",
    "Since the linear regression has no parametrs, there is no way to control the complexity of the model. We’ll explore some variations that add regularization below.\n",
    "\n",
    "## 2) Ridge Regression (L2 Regularization)\n",
    "Ridge regression uses L2 regularization to minimize the magnitude of the coefficients. It reduces the size of the coefficients and helps reduce model complexity.\n"
   ]
  },
  {
   "cell_type": "code",
   "execution_count": 351,
   "id": "6d875c89",
   "metadata": {},
   "outputs": [
    {
     "name": "stdout",
     "output_type": "stream",
     "text": [
      "model score: 0.477\n"
     ]
    }
   ],
   "source": [
    "# Importing ridge regression\n",
    "from sklearn.linear_model import Ridge\n",
    "\n",
    "# Buliding the pipeline for ridge regression\n",
    "Ridge_clf = Pipeline(\n",
    "    steps= [(\"preprocessor\", preprocessor),\n",
    "    (\"classifier_Ridge\", Ridge())]\n",
    ")\n",
    "\n",
    "# Fitting the model\n",
    "Ridge_clf.fit(X_train, y_train)\n",
    "print(\"model score: %.3f\" % Ridge_clf.score(X_test, y_test))\n"
   ]
  },
  {
   "cell_type": "markdown",
   "id": "a1baa88f",
   "metadata": {},
   "source": [
    "We control the complexity of our model with the regularization parameter, ⍺\n",
    "\n",
    "Higher values of alpha force coefficients to move towards zero and increase the restriction on the model. this decreases training performance, but also increase the generability of the model. setting the alphatoo high could lead to a model that is too simple and underfits the data .\n",
    "\n",
    "With lower values of ⍺ the coefficients are less restricted. When ⍺ is very small the model becomes more similar to linear regression above and we risk overfitting.\n",
    "\n",
    "Let’s see if we can improve performance using Scikit-Learn’s Ridge class:\n",
    "\n",
    "\n"
   ]
  },
  {
   "cell_type": "code",
   "execution_count": 170,
   "id": "441f622a",
   "metadata": {},
   "outputs": [
    {
     "name": "stdout",
     "output_type": "stream",
     "text": [
      "Best Score:  0.5589879595010336\n",
      "Best Params:  {'classifier_Ridge__alpha': 100}\n"
     ]
    }
   ],
   "source": [
    "# Find optimal alpha with grid search \n",
    "param_grid = {\n",
    "    \"classifier_Ridge__alpha\":[0.001,0.01,0.1,1,10,100,150,1000]\n",
    "}\n",
    "\n",
    "# Insintiating grid search model\n",
    "Ridge_grid = GridSearchCV(estimator=Ridge_clf, param_grid=param_grid,\n",
    "                          scoring=\"r2\",cv=5)\n",
    "\n",
    "# Getting the best results in the grid search\n",
    "Ridge_grid_result= Ridge_grid.fit(X_train, y_train)\n",
    "\n",
    "print('Best Score: ', Ridge_grid_result.best_score_)\n",
    "print('Best Params: ', Ridge_grid_result.best_params_)"
   ]
  },
  {
   "cell_type": "markdown",
   "id": "5ef118d5",
   "metadata": {},
   "source": [
    "*Our R² score increased by optimizing for alpha and went from (0.447) to (0.559)!*\n",
    "\n",
    "### Evaluating the model on unseen data\n",
    "\n",
    "#### R-Squared: \n",
    "R-squared is a statistical measure that represents the proportion of the variance for a dependent variable that's explained by an independent variable or variables in a regression model.\n",
    "\n",
    "* If the R2 of a model is 0.50, then approximately half of the observed variation can be explained by the model's inputs."
   ]
  },
  {
   "cell_type": "code",
   "execution_count": 171,
   "id": "d67f06d4",
   "metadata": {},
   "outputs": [
    {
     "data": {
      "text/plain": [
       "0.5605909393197235"
      ]
     },
     "execution_count": 171,
     "metadata": {},
     "output_type": "execute_result"
    }
   ],
   "source": [
    "# Importing the r2 metric\n",
    "from sklearn.metrics import r2_score\n",
    "\n",
    "# Predicting on test data\n",
    "y_pred = Ridge_grid.predict(X_test)\n",
    "\n",
    "R2 = r2_score(y_test,y_pred)\n",
    "R2"
   ]
  },
  {
   "cell_type": "markdown",
   "id": "a32900b9",
   "metadata": {},
   "source": [
    "## 2) XGBoost regressor\n",
    "Appending XGBoost regressor to preprocessing pipeline. so we can have a full prediction pipeline for it."
   ]
  },
  {
   "cell_type": "code",
   "execution_count": 172,
   "id": "f5f93023",
   "metadata": {},
   "outputs": [],
   "source": [
    "# Importing XGBoost regressor \n",
    "from xgboost.sklearn import XGBRegressor"
   ]
  },
  {
   "cell_type": "code",
   "execution_count": 173,
   "id": "56bfc756",
   "metadata": {},
   "outputs": [
    {
     "name": "stdout",
     "output_type": "stream",
     "text": [
      "XGB model accuracy: 0.558\n"
     ]
    }
   ],
   "source": [
    "# XGBoost regressor pipeline model\n",
    "XGB_reg = Pipeline(\n",
    "    steps= [(\"preprocessor\", preprocessor),\n",
    "    (\"XGB_regressor\", XGBRegressor())]\n",
    ")\n",
    "\n",
    "# Fitting the moedel to the data\n",
    "XGB_reg.fit(X_train, y_train)\n",
    "print(\"XGB model accuracy: %.3f\" % XGB_reg.score(X_test, y_test))"
   ]
  },
  {
   "cell_type": "code",
   "execution_count": 174,
   "id": "076f0b9f",
   "metadata": {},
   "outputs": [
    {
     "name": "stdout",
     "output_type": "stream",
     "text": [
      "Fitting 5 folds for each of 108 candidates, totalling 540 fits\n",
      "[16:57:14] WARNING: d:\\bld\\xgboost-split_1645118015404\\work\\src\\objective\\regression_obj.cu:188: reg:linear is now deprecated in favor of reg:squarederror.\n",
      "[16:57:14] WARNING: D:\\bld\\xgboost-split_1645118015404\\work\\src\\learner.cc:576: \n",
      "Parameters: { \"silent\" } might not be used.\n",
      "\n",
      "  This could be a false alarm, with some parameters getting used by language bindings but\n",
      "  then being mistakenly passed down to XGBoost core, or some parameter actually being used\n",
      "  but getting flagged wrongly here. Please open an issue if you find any such cases.\n",
      "\n",
      "\n",
      "Best Score:  0.5632082046566386\n",
      "Best Params:  {'XGB_regressor__colsample_bytree': 0.07, 'XGB_regressor__learning_rate': 0.05, 'XGB_regressor__max_depth': 5, 'XGB_regressor__min_child_weight': 10, 'XGB_regressor__n_estimators': 1000, 'XGB_regressor__nthread': 4, 'XGB_regressor__objective': 'reg:linear', 'XGB_regressor__silent': 1, 'XGB_regressor__subsample': 0.07}\n"
     ]
    }
   ],
   "source": [
    "# Finding best paramets for XGB model \n",
    "param_grid = {\n",
    "    \"XGB_regressor__nthread\": [4], # When use hyberthread, XGBoost may be slower\n",
    "    \"XGB_regressor__objective\": ['reg:linear'],\n",
    "    \"XGB_regressor__learning_rate\": [0.03,0.05,0.07],\n",
    "    \"XGB_regressor__max_depth\": [5,6,7,15],\n",
    "    \"XGB_regressor__min_child_weight\": [4,5,10],\n",
    "    \"XGB_regressor__silent\": [1],\n",
    "    \"XGB_regressor__subsample\": [0.07],\n",
    "    \"XGB_regressor__colsample_bytree\": [0.07],\n",
    "    \"XGB_regressor__n_estimators\":[100, 500,1000]\n",
    "}\n",
    "# Insintiating grid search model\n",
    "XGB_grid = GridSearchCV(estimator=XGB_reg, param_grid=param_grid,\n",
    "                          scoring=\"r2\",cv=5,n_jobs=5,verbose=True)\n",
    "\n",
    "# Getting the best results in the grid search\n",
    "XGB_grid_result= XGB_grid.fit(X_train, y_train)\n",
    "\n",
    "print('Best Score: ', XGB_grid_result.best_score_)\n",
    "print('Best Params: ', XGB_grid_result.best_params_)"
   ]
  },
  {
   "cell_type": "code",
   "execution_count": 175,
   "id": "8e95957c",
   "metadata": {},
   "outputs": [
    {
     "data": {
      "text/plain": [
       "0.5586384992139655"
      ]
     },
     "execution_count": 175,
     "metadata": {},
     "output_type": "execute_result"
    }
   ],
   "source": [
    "y_pred = XGB_grid_result.predict(X_test)\n",
    "\n",
    "R2 = r2_score(y_test,y_pred)\n",
    "R2"
   ]
  },
  {
   "cell_type": "markdown",
   "id": "daa7493e",
   "metadata": {},
   "source": [
    "Ridge is slighlity better on test data"
   ]
  },
  {
   "cell_type": "markdown",
   "id": "6e3d2e6c",
   "metadata": {},
   "source": [
    "# Conclusion\n",
    "* The Items bought are more of Low Fat\n",
    "* \"Fruits and vegetables\" and \"Snack food\" are the most sold items in all the stores with all sizes.\n",
    "* The Item Outles sales are high for both Low Fat and Regular Item types, so its not justified why all the outlets have more low fat products than regular.\n",
    "* The items with visibility near to zero is rarely purchased by the customers.\n",
    "* You can see that the number of sales made by the second categore which its Maximum Retail Price(MRP) between **((70, 135]) and ((135,205])** are nearly double the number of sales made by any other category, This means we should increase the most purchased product with this range of Maximum Retail Price(MRP) in all supermarkets.\n",
    "\n",
    "* Also the mean of the products with MRP more than 200 is high , this is because it has higher price but not because it is purchased a lot.\n",
    "* The \"Outlet_Establishment_Year\" has no effect on the sales made by any outlet, as the number of sales made or the mean of all years are nearly the same ."
   ]
  },
  {
   "cell_type": "code",
   "execution_count": null,
   "id": "deea82c3",
   "metadata": {},
   "outputs": [],
   "source": []
  }
 ],
 "metadata": {
  "kernelspec": {
   "display_name": "Python 3 (ipykernel)",
   "language": "python",
   "name": "python3"
  },
  "language_info": {
   "codemirror_mode": {
    "name": "ipython",
    "version": 3
   },
   "file_extension": ".py",
   "mimetype": "text/x-python",
   "name": "python",
   "nbconvert_exporter": "python",
   "pygments_lexer": "ipython3",
   "version": "3.9.7"
  }
 },
 "nbformat": 4,
 "nbformat_minor": 5
}
